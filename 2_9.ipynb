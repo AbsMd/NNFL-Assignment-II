{
  "nbformat": 4,
  "nbformat_minor": 0,
  "metadata": {
    "colab": {
      "name": "2-9.ipynb",
      "provenance": [],
      "collapsed_sections": []
    },
    "kernelspec": {
      "name": "python3",
      "display_name": "Python 3"
    },
    "accelerator": "GPU"
  },
  "cells": [
    {
      "cell_type": "code",
      "metadata": {
        "colab": {
          "base_uri": "https://localhost:8080/"
        },
        "id": "f-oYiJVvuW50",
        "outputId": "e86d6831-50aa-471b-9f71-ff126ba48e54"
      },
      "source": [
        "from google.colab import drive\n",
        "drive.mount('/content/drive')"
      ],
      "execution_count": 5,
      "outputs": [
        {
          "output_type": "stream",
          "text": [
            "Mounted at /content/drive\n"
          ],
          "name": "stdout"
        }
      ]
    },
    {
      "cell_type": "code",
      "metadata": {
        "colab": {
          "base_uri": "https://localhost:8080/"
        },
        "id": "180Iv-DnvD1l",
        "outputId": "81f489a6-6bd0-4a42-fb9e-888aa69e2b77"
      },
      "source": [
        "import tensorflow as tf\n",
        "\n",
        "from tensorflow import keras\n",
        "from keras.models import Sequential\n",
        "from keras.layers import Conv1D, MaxPooling1D\n",
        "from keras.layers import Activation, Dropout, Dense, Flatten\n",
        "from tensorflow.keras import activations\n",
        "from keras.preprocessing.image import ImageDataGenerator\n",
        "\n",
        "import scipy.io\n",
        "import numpy as np\n",
        "import pandas as pd\n",
        "mat = scipy.io.loadmat('/content/drive/MyDrive/3-1 proj/NNFL assignment2/input.mat')\n",
        "data = mat['x']\n",
        "\n",
        "mat = scipy.io.loadmat('/content/drive/MyDrive/3-1 proj/NNFL assignment2/class_label.mat')\n",
        "labels = mat['y']\n",
        "\n",
        "data = data[0].reshape(labels.shape)\n",
        "\n",
        "d = []\n",
        "n, m = labels.shape\n",
        "\n",
        "for i in range(n):\n",
        "  d.append(data[i][0].T)\n",
        "data = np.array(d)\n",
        "\n",
        "labels = keras.utils.to_categorical(labels)\n",
        "labels = labels[:, 1:]\n",
        "\n",
        "data.shape, labels.shape\n",
        "\n",
        "input_shape = (data.shape[1], data.shape[2])\n",
        "input_shape\n",
        "\n",
        "model = Sequential()\n",
        "\n",
        "model.add(Conv1D(filters = 30, kernel_size = 7, input_shape = input_shape)) \n",
        "model.add(MaxPooling1D(pool_size = 2, strides = 2))\n",
        "model.add(Activation(activations.relu))\n",
        "model.add(Conv1D(filters = 60, kernel_size = 7))\n",
        "model.add(MaxPooling1D(pool_size = 3, strides = 3))\n",
        "model.add(Activation(activations.relu)) \n",
        "model.add(Dropout(0.7)) \n",
        "model.add(Conv1D(filters = 120, kernel_size = 7)) \n",
        "model.add(Conv1D(filters = 120, kernel_size = 7)) \n",
        "model.add(Flatten()) \n",
        "model.add(Dense(2024)) \n",
        "model.add(Activation(activations.relu))\n",
        "model.add(Dense(700))\n",
        "model.add(Dense(50))\n",
        "model.add(Dense(7))\n",
        "model.add(Activation(activations.softmax))\n",
        "\n",
        "print(model.summary())\n",
        "\n",
        "model.compile(optimizer='SGD', loss='categorical_crossentropy', metrics=['accuracy'])\n",
        "\n",
        "model.fit(x = data, y = labels, epochs=2)"
      ],
      "execution_count": 15,
      "outputs": [
        {
          "output_type": "stream",
          "text": [
            "Model: \"sequential_6\"\n",
            "_________________________________________________________________\n",
            "Layer (type)                 Output Shape              Param #   \n",
            "=================================================================\n",
            "conv1d_24 (Conv1D)           (None, 794, 30)           2550      \n",
            "_________________________________________________________________\n",
            "max_pooling1d_12 (MaxPooling (None, 397, 30)           0         \n",
            "_________________________________________________________________\n",
            "activation_24 (Activation)   (None, 397, 30)           0         \n",
            "_________________________________________________________________\n",
            "conv1d_25 (Conv1D)           (None, 391, 60)           12660     \n",
            "_________________________________________________________________\n",
            "max_pooling1d_13 (MaxPooling (None, 130, 60)           0         \n",
            "_________________________________________________________________\n",
            "activation_25 (Activation)   (None, 130, 60)           0         \n",
            "_________________________________________________________________\n",
            "dropout_6 (Dropout)          (None, 130, 60)           0         \n",
            "_________________________________________________________________\n",
            "conv1d_26 (Conv1D)           (None, 124, 120)          50520     \n",
            "_________________________________________________________________\n",
            "conv1d_27 (Conv1D)           (None, 118, 120)          100920    \n",
            "_________________________________________________________________\n",
            "flatten_6 (Flatten)          (None, 14160)             0         \n",
            "_________________________________________________________________\n",
            "dense_24 (Dense)             (None, 2024)              28661864  \n",
            "_________________________________________________________________\n",
            "activation_26 (Activation)   (None, 2024)              0         \n",
            "_________________________________________________________________\n",
            "dense_25 (Dense)             (None, 700)               1417500   \n",
            "_________________________________________________________________\n",
            "dense_26 (Dense)             (None, 50)                35050     \n",
            "_________________________________________________________________\n",
            "dense_27 (Dense)             (None, 7)                 357       \n",
            "_________________________________________________________________\n",
            "activation_27 (Activation)   (None, 7)                 0         \n",
            "=================================================================\n",
            "Total params: 30,281,421\n",
            "Trainable params: 30,281,421\n",
            "Non-trainable params: 0\n",
            "_________________________________________________________________\n",
            "None\n",
            "Epoch 1/2\n",
            "537/537 [==============================] - 4s 7ms/step - loss: 0.4341 - accuracy: 0.8522\n",
            "Epoch 2/2\n",
            "537/537 [==============================] - 4s 7ms/step - loss: 0.0173 - accuracy: 0.9972\n"
          ],
          "name": "stdout"
        },
        {
          "output_type": "execute_result",
          "data": {
            "text/plain": [
              "<tensorflow.python.keras.callbacks.History at 0x7fd82a172c88>"
            ]
          },
          "metadata": {
            "tags": []
          },
          "execution_count": 15
        }
      ]
    }
  ]
}